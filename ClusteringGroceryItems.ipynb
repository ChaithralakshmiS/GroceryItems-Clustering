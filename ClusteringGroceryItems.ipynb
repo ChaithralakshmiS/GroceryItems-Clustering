{
 "cells": [
  {
   "cell_type": "code",
   "execution_count": 71,
   "metadata": {},
   "outputs": [
    {
     "name": "stdout",
     "output_type": "stream",
     "text": [
      "   user_id                                                 id\n",
      "0   222087                    [dishwashing , spaghetti sauce]\n",
      "1  1343649                              [poultry, pork, beef]\n",
      "2   404134  [laundry detergent, shampoo, tea, frozen veget...\n",
      "3  1110200  [soda, tea, lettuce, grapefruit, spaghetti sau...\n",
      "4   224107  [pasta, laundry detergent, waffles, bagels, su...\n"
     ]
    }
   ],
   "source": [
    "import pandas as pd\n",
    "\n",
    "items = pd.read_csv('data/item_to_id.csv')\n",
    "\n",
    "\n",
    "\n",
    "transactions = pd.read_csv('data/purchase_history.csv')\n",
    "\n",
    "index = transactions.index.values\n",
    "columns= ['user_id','id']\n",
    "\n",
    "new_transactions = pd.DataFrame(index=index, columns=columns)\n",
    "new_transactions= new_transactions.fillna(0)\n",
    "new_transactions['id'] = new_transactions['id'].astype(object)\n",
    "\n",
    "for i in range(0, len(new_transactions)):\n",
    "    items_in_trans = transactions.loc[i,'id'].split(',')\n",
    "    new_transactions.loc[i,'user_id'] = transactions.loc[i,'user_id']\n",
    "    id = []\n",
    "    for k in range(0,len(items_in_trans)):\n",
    "        \n",
    "        for index, row in items.iterrows():\n",
    "            if int(row['Item_id']) == int(items_in_trans[k]):\n",
    "                id.append(row['Item_name'])\n",
    "        \n",
    "     \n",
    "    \n",
    "    \n",
    "        \n",
    "                \n",
    "    new_transactions.at[i, 'id'] = id          \n",
    "\n",
    "\n",
    "print(new_transactions.head())\n",
    "    \n",
    "\n",
    "\n",
    "\n"
   ]
  },
  {
   "cell_type": "code",
   "execution_count": null,
   "metadata": {},
   "outputs": [],
   "source": []
  }
 ],
 "metadata": {
  "kernelspec": {
   "display_name": "Python 3",
   "language": "python",
   "name": "python3"
  },
  "language_info": {
   "codemirror_mode": {
    "name": "ipython",
    "version": 3
   },
   "file_extension": ".py",
   "mimetype": "text/x-python",
   "name": "python",
   "nbconvert_exporter": "python",
   "pygments_lexer": "ipython3",
   "version": "3.6.5"
  }
 },
 "nbformat": 4,
 "nbformat_minor": 2
}
